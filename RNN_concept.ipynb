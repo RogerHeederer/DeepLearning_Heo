{
  "nbformat": 4,
  "nbformat_minor": 0,
  "metadata": {
    "colab": {
      "name": "RNN_concept.ipynb",
      "provenance": [],
      "authorship_tag": "ABX9TyP7aQOKdsEI4wqsDAiwu4ua",
      "include_colab_link": true
    },
    "kernelspec": {
      "name": "python3",
      "display_name": "Python 3"
    },
    "accelerator": "GPU"
  },
  "cells": [
    {
      "cell_type": "markdown",
      "metadata": {
        "id": "view-in-github",
        "colab_type": "text"
      },
      "source": [
        "<a href=\"https://colab.research.google.com/github/RogerHeederer/DeepLearning_Heo/blob/master/RNN_concept.ipynb\" target=\"_parent\"><img src=\"https://colab.research.google.com/assets/colab-badge.svg\" alt=\"Open In Colab\"/></a>"
      ]
    },
    {
      "cell_type": "markdown",
      "metadata": {
        "id": "MgJt0Z8EMLma",
        "colab_type": "text"
      },
      "source": [
        "Reference source : https://github.com/minsuk-heo/tf2 <br/>\n",
        "공부 과정에서 필요한 부분에 대해서는 code, figure 수정, 삽입 등을 수행했습니다."
      ]
    },
    {
      "cell_type": "code",
      "metadata": {
        "id": "-fD-yDAbMIi8",
        "colab_type": "code",
        "colab": {}
      },
      "source": [
        "from IPython.display import Image"
      ],
      "execution_count": 5,
      "outputs": []
    },
    {
      "cell_type": "code",
      "metadata": {
        "id": "XtJpQ6zMNqN3",
        "colab_type": "code",
        "colab": {}
      },
      "source": [
        "from __future__ import absolute_import, division, print_function, unicode_literals\n",
        "\n",
        "try:\n",
        "  %tensorlfow_version 2.x\n",
        "except Exception:\n",
        "  pass"
      ],
      "execution_count": 6,
      "outputs": []
    },
    {
      "cell_type": "code",
      "metadata": {
        "id": "mi9Cqe6UOBTu",
        "colab_type": "code",
        "colab": {}
      },
      "source": [
        "import tensorflow as tf\n",
        "from tensorflow.keras.layers import Input, Dense, SimpleRNN, TimeDistributed\n",
        "from tensorflow.keras.models import Model, Sequential\n",
        "import numpy as np"
      ],
      "execution_count": 7,
      "outputs": []
    },
    {
      "cell_type": "markdown",
      "metadata": {
        "id": "177_ZBtTOSMq",
        "colab_type": "text"
      },
      "source": [
        "##RNN CELL 분석"
      ]
    },
    {
      "cell_type": "code",
      "metadata": {
        "id": "8TsVzOzeOOZf",
        "colab_type": "code",
        "colab": {}
      },
      "source": [
        "inputs = Input(shape=(1,2))"
      ],
      "execution_count": 8,
      "outputs": []
    },
    {
      "cell_type": "code",
      "metadata": {
        "id": "BE3x2T8uOZCI",
        "colab_type": "code",
        "colab": {
          "base_uri": "https://localhost:8080/",
          "height": 35
        },
        "outputId": "29146b19-a22e-4618-ab3f-90f3812cf1c4"
      },
      "source": [
        "inputs"
      ],
      "execution_count": 9,
      "outputs": [
        {
          "output_type": "execute_result",
          "data": {
            "text/plain": [
              "<tf.Tensor 'input_1:0' shape=(None, 1, 2) dtype=float32>"
            ]
          },
          "metadata": {
            "tags": []
          },
          "execution_count": 9
        }
      ]
    },
    {
      "cell_type": "code",
      "metadata": {
        "id": "YyR4mEQZOeH2",
        "colab_type": "code",
        "colab": {}
      },
      "source": [
        "output, state = SimpleRNN(3, return_state=True, activation='tanh')(inputs)\n",
        "model = Model(inputs=inputs, outputs=[output, state])"
      ],
      "execution_count": 10,
      "outputs": []
    },
    {
      "cell_type": "code",
      "metadata": {
        "id": "py821K3tPMSF",
        "colab_type": "code",
        "colab": {
          "base_uri": "https://localhost:8080/",
          "height": 71
        },
        "outputId": "0d7ead6b-297a-4464-c6f4-092215a0ed1b"
      },
      "source": [
        "output, state, model"
      ],
      "execution_count": 11,
      "outputs": [
        {
          "output_type": "execute_result",
          "data": {
            "text/plain": [
              "(<tf.Tensor 'simple_rnn/strided_slice_3:0' shape=(None, 3) dtype=float32>,\n",
              " <tf.Tensor 'simple_rnn/while:4' shape=(None, 3) dtype=float32>,\n",
              " <tensorflow.python.keras.engine.functional.Functional at 0x7fab1a623cc0>)"
            ]
          },
          "metadata": {
            "tags": []
          },
          "execution_count": 11
        }
      ]
    },
    {
      "cell_type": "code",
      "metadata": {
        "id": "K0HMOe51QRhn",
        "colab_type": "code",
        "colab": {
          "base_uri": "https://localhost:8080/",
          "height": 53
        },
        "outputId": "b571165e-2d01-4e4e-d452-7c47585316c3"
      },
      "source": [
        "model.layers[0], model.layers[1] #SimpleRNN"
      ],
      "execution_count": 12,
      "outputs": [
        {
          "output_type": "execute_result",
          "data": {
            "text/plain": [
              "(<tensorflow.python.keras.engine.input_layer.InputLayer at 0x7fab4dde67b8>,\n",
              " <tensorflow.python.keras.layers.recurrent.SimpleRNN at 0x7fab1a623748>)"
            ]
          },
          "metadata": {
            "tags": []
          },
          "execution_count": 12
        }
      ]
    },
    {
      "cell_type": "code",
      "metadata": {
        "id": "uJvdUyubPNo-",
        "colab_type": "code",
        "colab": {}
      },
      "source": [
        "data = np.array([[ [1,2] ]])"
      ],
      "execution_count": 13,
      "outputs": []
    },
    {
      "cell_type": "code",
      "metadata": {
        "id": "SM42r-opPPcn",
        "colab_type": "code",
        "colab": {
          "base_uri": "https://localhost:8080/",
          "height": 35
        },
        "outputId": "a33d23ad-5c07-45f1-f217-a60bc75be80b"
      },
      "source": [
        "data, data.shape"
      ],
      "execution_count": 14,
      "outputs": [
        {
          "output_type": "execute_result",
          "data": {
            "text/plain": [
              "(array([[[1, 2]]]), (1, 1, 2))"
            ]
          },
          "metadata": {
            "tags": []
          },
          "execution_count": 14
        }
      ]
    },
    {
      "cell_type": "code",
      "metadata": {
        "id": "Q7tj9z-dPgoc",
        "colab_type": "code",
        "colab": {}
      },
      "source": [
        "output, state = model.predict(data)"
      ],
      "execution_count": 15,
      "outputs": []
    },
    {
      "cell_type": "code",
      "metadata": {
        "id": "7Xq8Lk6rPtZ8",
        "colab_type": "code",
        "colab": {
          "base_uri": "https://localhost:8080/",
          "height": 53
        },
        "outputId": "761d501f-a51e-4738-d838-37188e4f27af"
      },
      "source": [
        "output, state # 아웃풋과 현재 상태값은 같은 것을 확인할 수 있다."
      ],
      "execution_count": 16,
      "outputs": [
        {
          "output_type": "execute_result",
          "data": {
            "text/plain": [
              "(array([[ 0.08964063,  0.830997  , -0.92504376]], dtype=float32),\n",
              " array([[ 0.08964063,  0.830997  , -0.92504376]], dtype=float32))"
            ]
          },
          "metadata": {
            "tags": []
          },
          "execution_count": 16
        }
      ]
    },
    {
      "cell_type": "code",
      "metadata": {
        "id": "KkF2xQHfPwsk",
        "colab_type": "code",
        "colab": {
          "base_uri": "https://localhost:8080/",
          "height": 71
        },
        "outputId": "871868b7-21f3-458b-990f-fde35dfe0cc2"
      },
      "source": [
        "model.layers[1].weights[0] #input shape (1,2) X (2,3) weights_shape = (1,3) = output and state"
      ],
      "execution_count": 17,
      "outputs": [
        {
          "output_type": "execute_result",
          "data": {
            "text/plain": [
              "<tf.Variable 'simple_rnn/simple_rnn_cell/kernel:0' shape=(2, 3) dtype=float32, numpy=\n",
              "array([[ 0.5427234 , -0.04074979, -0.2556253 ],\n",
              "       [-0.22642076,  0.61604977, -0.68363726]], dtype=float32)>"
            ]
          },
          "metadata": {
            "tags": []
          },
          "execution_count": 17
        }
      ]
    },
    {
      "cell_type": "code",
      "metadata": {
        "id": "6WYp-ILyQtTV",
        "colab_type": "code",
        "colab": {
          "base_uri": "https://localhost:8080/",
          "height": 89
        },
        "outputId": "366c6fca-e7d9-4ae7-a82b-35037a5b0705"
      },
      "source": [
        "model.layers[1].weights[1] # prior state shape (1,3) X (3,3) weights_shape = (1,3) = output and state"
      ],
      "execution_count": 18,
      "outputs": [
        {
          "output_type": "execute_result",
          "data": {
            "text/plain": [
              "<tf.Variable 'simple_rnn/simple_rnn_cell/recurrent_kernel:0' shape=(3, 3) dtype=float32, numpy=\n",
              "array([[-0.9243765 , -0.22979698, -0.30450234],\n",
              "       [-0.38039708,  0.61539215,  0.69035536],\n",
              "       [ 0.02874677,  0.75398   , -0.65626806]], dtype=float32)>"
            ]
          },
          "metadata": {
            "tags": []
          },
          "execution_count": 18
        }
      ]
    },
    {
      "cell_type": "code",
      "metadata": {
        "id": "lxwlewuqQ7gM",
        "colab_type": "code",
        "colab": {
          "base_uri": "https://localhost:8080/",
          "height": 35
        },
        "outputId": "311238a1-5f03-4d02-8b02-cde6c706e08c"
      },
      "source": [
        "model.layers[1].weights[2]"
      ],
      "execution_count": 19,
      "outputs": [
        {
          "output_type": "execute_result",
          "data": {
            "text/plain": [
              "<tf.Variable 'simple_rnn/simple_rnn_cell/bias:0' shape=(3,) dtype=float32, numpy=array([0., 0., 0.], dtype=float32)>"
            ]
          },
          "metadata": {
            "tags": []
          },
          "execution_count": 19
        }
      ]
    },
    {
      "cell_type": "markdown",
      "metadata": {
        "id": "4jw6t8nVTESi",
        "colab_type": "text"
      },
      "source": [
        "##Sequence tagging example"
      ]
    },
    {
      "cell_type": "code",
      "metadata": {
        "id": "QGpYdEaaRtYF",
        "colab_type": "code",
        "colab": {}
      },
      "source": [
        "John = [1,0,0]\n",
        "loves = [0,1,0]\n",
        "Jane = [0,0,1]\n",
        "\n",
        "X = np.array([\n",
        "  [John, loves, Jane],\n",
        "  [Jane, loves, John]\n",
        "]).astype(np.float32)"
      ],
      "execution_count": 20,
      "outputs": []
    },
    {
      "cell_type": "code",
      "metadata": {
        "id": "l1yh17zLTXv5",
        "colab_type": "code",
        "colab": {
          "base_uri": "https://localhost:8080/",
          "height": 143
        },
        "outputId": "25479cd4-e2d7-4af6-dd76-eb85e1bd35be"
      },
      "source": [
        "X"
      ],
      "execution_count": 21,
      "outputs": [
        {
          "output_type": "execute_result",
          "data": {
            "text/plain": [
              "array([[[1., 0., 0.],\n",
              "        [0., 1., 0.],\n",
              "        [0., 0., 1.]],\n",
              "\n",
              "       [[0., 0., 1.],\n",
              "        [0., 1., 0.],\n",
              "        [1., 0., 0.]]], dtype=float32)"
            ]
          },
          "metadata": {
            "tags": []
          },
          "execution_count": 21
        }
      ]
    },
    {
      "cell_type": "code",
      "metadata": {
        "id": "ewE3RxTSTYQ9",
        "colab_type": "code",
        "colab": {}
      },
      "source": [
        "S = [0]\n",
        "V = [1]\n",
        "O = [2]\n",
        "y = np.array([[S, V, O], [S, V, O]]).astype(np.float32)"
      ],
      "execution_count": 22,
      "outputs": []
    },
    {
      "cell_type": "code",
      "metadata": {
        "id": "Owf7dHKjThWV",
        "colab_type": "code",
        "colab": {
          "base_uri": "https://localhost:8080/",
          "height": 143
        },
        "outputId": "07ca26e3-ea45-4f7f-f879-49f06e980695"
      },
      "source": [
        "y"
      ],
      "execution_count": 23,
      "outputs": [
        {
          "output_type": "execute_result",
          "data": {
            "text/plain": [
              "array([[[0.],\n",
              "        [1.],\n",
              "        [2.]],\n",
              "\n",
              "       [[0.],\n",
              "        [1.],\n",
              "        [2.]]], dtype=float32)"
            ]
          },
          "metadata": {
            "tags": []
          },
          "execution_count": 23
        }
      ]
    },
    {
      "cell_type": "code",
      "metadata": {
        "id": "7HWZqqaeTky8",
        "colab_type": "code",
        "colab": {}
      },
      "source": [
        "inputs = Input(shape=(3,3))"
      ],
      "execution_count": 24,
      "outputs": []
    },
    {
      "cell_type": "code",
      "metadata": {
        "id": "LW3UoOsAXglS",
        "colab_type": "code",
        "colab": {}
      },
      "source": [
        "output, state = SimpleRNN(3, return_state=True, return_sequences=True)(inputs)\n",
        "model = Model(inputs=inputs, outputs=[output, state])"
      ],
      "execution_count": 25,
      "outputs": []
    },
    {
      "cell_type": "code",
      "metadata": {
        "id": "MFvOgDVCXqd6",
        "colab_type": "code",
        "colab": {}
      },
      "source": [
        "output, state = model.predict(X)"
      ],
      "execution_count": 26,
      "outputs": []
    },
    {
      "cell_type": "code",
      "metadata": {
        "id": "AN8ybnK3XzKq",
        "colab_type": "code",
        "colab": {
          "base_uri": "https://localhost:8080/",
          "height": 125
        },
        "outputId": "703630ec-0c1e-4edc-fe1a-01d73f0b52b7"
      },
      "source": [
        "print(\"John loves Jane: \",output[0])\n",
        "print(\"Jane loves John: \",output[1])"
      ],
      "execution_count": 27,
      "outputs": [
        {
          "output_type": "stream",
          "text": [
            "John loves Jane:  [[ 0.24743809 -0.6455617   0.69018984]\n",
            " [ 0.45676604 -0.8584785   0.87062585]\n",
            " [-0.19132279  0.25399846  0.9211307 ]]\n",
            "Jane loves John:  [[ 0.0876617   0.6959274   0.43969262]\n",
            " [ 0.30781063 -0.12050796  0.55869275]\n",
            " [-0.05357769 -0.6460992   0.88973737]]\n"
          ],
          "name": "stdout"
        }
      ]
    },
    {
      "cell_type": "code",
      "metadata": {
        "id": "N02vLkuSYMjr",
        "colab_type": "code",
        "colab": {
          "base_uri": "https://localhost:8080/",
          "height": 53
        },
        "outputId": "0c1034bd-b8b2-42d8-be61-1dbc01c8a20f"
      },
      "source": [
        "# state 값은 각 문장의 마지막 output 값과 일치하는 것을 확인\n",
        "print(\"John loves Jane: state: \",state[0])\n",
        "print(\"Jane loves John: state: \",state[1])"
      ],
      "execution_count": 28,
      "outputs": [
        {
          "output_type": "stream",
          "text": [
            "John loves Jane: state:  [-0.19132279  0.25399846  0.9211307 ]\n",
            "Jane loves John: state:  [-0.05357769 -0.6460992   0.88973737]\n"
          ],
          "name": "stdout"
        }
      ]
    },
    {
      "cell_type": "markdown",
      "metadata": {
        "id": "AwDN_ukRaFIT",
        "colab_type": "text"
      },
      "source": [
        "<img src='https://drive.google.com/uc?export=view&id=1nNqmFJUc_u-blPWXCohEzUNCxS_7oAr7' align=\"left\" width=600>"
      ]
    },
    {
      "cell_type": "code",
      "metadata": {
        "id": "WThkU8sXYc97",
        "colab_type": "code",
        "colab": {
          "base_uri": "https://localhost:8080/",
          "height": 251
        },
        "outputId": "a306bd64-9c03-447a-9a9f-6f9956009926"
      },
      "source": [
        "model = Sequential()\n",
        "model.add(SimpleRNN(3, input_shape=(3, 3), return_sequences=True))\n",
        "model.add(TimeDistributed(Dense(3, activation=\"softmax\")))\n",
        "model.compile(loss='sparse_categorical_crossentropy', optimizer='adam')\n",
        "print(model.summary())"
      ],
      "execution_count": 29,
      "outputs": [
        {
          "output_type": "stream",
          "text": [
            "Model: \"sequential\"\n",
            "_________________________________________________________________\n",
            "Layer (type)                 Output Shape              Param #   \n",
            "=================================================================\n",
            "simple_rnn_2 (SimpleRNN)     (None, 3, 3)              21        \n",
            "_________________________________________________________________\n",
            "time_distributed (TimeDistri (None, 3, 3)              12        \n",
            "=================================================================\n",
            "Total params: 33\n",
            "Trainable params: 33\n",
            "Non-trainable params: 0\n",
            "_________________________________________________________________\n",
            "None\n"
          ],
          "name": "stdout"
        }
      ]
    },
    {
      "cell_type": "code",
      "metadata": {
        "id": "3tqnISslZyhC",
        "colab_type": "code",
        "colab": {
          "base_uri": "https://localhost:8080/",
          "height": 35
        },
        "outputId": "631b599e-f503-4edb-88dc-7aa70eb8132b"
      },
      "source": [
        "model.fit(X, y, epochs=2000, verbose=0)"
      ],
      "execution_count": 54,
      "outputs": [
        {
          "output_type": "execute_result",
          "data": {
            "text/plain": [
              "<tensorflow.python.keras.callbacks.History at 0x7faaa0b3bcf8>"
            ]
          },
          "metadata": {
            "tags": []
          },
          "execution_count": 54
        }
      ]
    },
    {
      "cell_type": "code",
      "metadata": {
        "id": "gVl_x28ocBCC",
        "colab_type": "code",
        "colab": {}
      },
      "source": [
        "result = model.predict(X, verbose=0)"
      ],
      "execution_count": 56,
      "outputs": []
    },
    {
      "cell_type": "code",
      "metadata": {
        "id": "cRLcs3BAciez",
        "colab_type": "code",
        "colab": {
          "base_uri": "https://localhost:8080/",
          "height": 143
        },
        "outputId": "7d7fc3e6-dc02-44eb-8127-f6e754737707"
      },
      "source": [
        "result"
      ],
      "execution_count": 57,
      "outputs": [
        {
          "output_type": "execute_result",
          "data": {
            "text/plain": [
              "array([[[9.9894983e-01, 7.0501858e-04, 3.4522399e-04],\n",
              "        [6.9352245e-04, 9.9916077e-01, 1.4562858e-04],\n",
              "        [6.4191496e-04, 2.2367523e-04, 9.9913448e-01]],\n",
              "\n",
              "       [[9.9899596e-01, 6.8311434e-04, 3.2094790e-04],\n",
              "        [7.8073418e-04, 9.9907541e-01, 1.4383254e-04],\n",
              "        [6.2991871e-04, 2.2896664e-04, 9.9914110e-01]]], dtype=float32)"
            ]
          },
          "metadata": {
            "tags": []
          },
          "execution_count": 57
        }
      ]
    },
    {
      "cell_type": "code",
      "metadata": {
        "id": "09bgVz8De6n5",
        "colab_type": "code",
        "colab": {
          "base_uri": "https://localhost:8080/",
          "height": 53
        },
        "outputId": "01d11d79-49f9-4c0e-ffcc-78d5611565a4"
      },
      "source": [
        "np.argmax(result, axis=1)"
      ],
      "execution_count": 58,
      "outputs": [
        {
          "output_type": "execute_result",
          "data": {
            "text/plain": [
              "array([[0, 1, 2],\n",
              "       [0, 1, 2]])"
            ]
          },
          "metadata": {
            "tags": []
          },
          "execution_count": 58
        }
      ]
    },
    {
      "cell_type": "code",
      "metadata": {
        "id": "EXmSwx4wfrWZ",
        "colab_type": "code",
        "colab": {}
      },
      "source": [
        ""
      ],
      "execution_count": null,
      "outputs": []
    }
  ]
}